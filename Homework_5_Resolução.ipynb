{
  "cells": [
    {
      "cell_type": "markdown",
      "id": "44c8c5a5",
      "metadata": {
        "id": "44c8c5a5"
      },
      "source": [
        "#1)\n",
        "#a)\n",
        " LinearSVC possui 2 erros de classificação;\n",
        "SVC possui 1 erro de classificação;\n",
        "SVC with RBF kernel está no limite da classificação , possui 1 erro de classificação;\n",
        "SVC with polynomial ( degree 3) não possui erro de classificação\n",
        "\n",
        "#b)\n",
        " A melhor SVM seria SVC with polynomial (degree 3) pois não possui erro de classificação"
      ]
    },
    {
      "cell_type": "markdown",
      "id": "f056e9b3",
      "metadata": {
        "id": "f056e9b3"
      },
      "source": [
        "#2)\n",
        " O parâmetro \"C\" deve ser aumentado, pois esse parâmetro controla a rigorosidade da SVM, quanto maior \"C\" mais complexa a SVM, tendendo a ocorrer overfiting dos dados."
      ]
    },
    {
      "cell_type": "markdown",
      "id": "a05e5aef",
      "metadata": {
        "id": "a05e5aef"
      },
      "source": [
        "#4) a)\n",
        " Tratando-se de uma SVM linear , K(z,Xn) = <z,Xn>.\n",
        "\n",
        "b= -2 \n",
        "\n",
        "vetores lambda= -0.5  , -0.3 , 0.8 \n",
        "\n",
        "vetores de suporte = [1 4] [ -2 3] [-2 -5] \n",
        "\n",
        "f(z)= (-0.5*<z,[1 4]> - 0.3*<z, [-2 3]> + 0.8*<z,[-2 -5]>)-2 \n",
        "\n",
        "#b)\n",
        " perceptron f(z)=<z,w>+b\n",
        "\n",
        "f(z)= (-0.5*<z,[1 4]> - 0.3*<z, [-2 3]> + 0.8*<z,[-2 -5]>)-2\n",
        "\n",
        "f(z)= (<z, [ -0.5 -2]> + <z, [0.6  -0.9] + <z, [ -1.6 -4]>) -2\n",
        "\n",
        "f(z)= (z1(-0.5 +0.6 -1.6)+ z2(-2 -0.9 -4) ) -2\n",
        "\n",
        "f(z)= (z1* (-1.5) + z2 * (-6.9) ) -2\n",
        "\n",
        "sendo os vetores de peso W1= -1.5 e W2= -6.9\n",
        "\n",
        "\n",
        "#c)\n",
        "y=I(f(z)>0) , I() = 1 se verdadeiro, 0 se falso.\n",
        "\n",
        "para o vetor de entrada z=[0,0], f([0,0)=b\n",
        "\n",
        "f([0,0])= -2, logo y=0"
      ]
    },
    {
      "cell_type": "markdown",
      "source": [
        "#5)\n",
        "#a)\n",
        "Para SVM 3 (RBF)\n",
        "\n",
        "gamma= 0.7\n",
        "\n",
        "bias= -0.09\n",
        "\n",
        "f(z)=( -0.92*e^(-0.7||z-[0,-4]||²) \n",
        "-0.91*e^(-0.7*||z-[-1,2]||²)\n",
        "-0.91*e^(-0.7*||z-[3,3]||²)\n",
        "+0.87*e^(-0.7*||z-[-5,-6]||²)\n",
        "+0.87*e^(-0.7*||z-[-4,-5]||²)\n",
        "+1*e^(-0.7 *||z-[-2,-2]||²) ) -0.09\n",
        "\n",
        "\n",
        "\n",
        "Para SVM 4 (polynomial)\n",
        "\n",
        "g= Grau= 3\n",
        "\n",
        "bias= -1.04\n",
        "\n",
        "Kernel = (gamma*<z,Xn>+ r)^d\n",
        "\n",
        "f(z)= (-0.009*(Gamma<z,[0,-4]>)³ -0.03*(gamma<z,[-1,2]>)³+ 0.04*(gamma<z,[-2,-2]>)³ ) - 1.04\n",
        "\n",
        "\n",
        "\n",
        "Para SVM 2 (linear)\n",
        "\n",
        "\n",
        "Tratando-se de uma SVM linear , K(z,Xn) = <z,Xn>.\n",
        "\n",
        "bias= -1.8 \n",
        "\n",
        "vetores lambda= -0.46  , -0.28 , 0.74 \n",
        "\n",
        "vetores de suporte = [0,-4] [-1,2] [-2,-2] \n",
        "\n",
        "f(z)= (-0.46*<z,[0,-4]> - 0.28*<z, [-1,2]> + 0.74*<z,[-2,-2]>)-1.8 \n",
        "\n",
        "\n",
        "#b) \n",
        "Como perceptron: f(z)=<z,w>+b\n",
        "\n",
        "f(z)= (-0.46*<z,[0,-4]> - 0.28*<z, [-1,2]> + 0.74*<z,[-2,-2]>)-1.8 \n",
        "\n",
        "f(z)= ( <z,[0,1.84]>+<z,[0.28, -0.56]>+<z,[-1.48 , -1,48]>) - 1.8\n",
        "\n",
        "f(z)= (z1*(0 + 0.28 -1.48) + z2*(1.84-0.56-1.48)) - 1.8\n",
        "\n",
        "f(z)= (z1 * (-1.20) + z2*(-0.2) ) - 1.8\n",
        "\n",
        "sendo os vetores de peso W1= -1.2 e w2= -0.2\n",
        "\n",
        "#c)\n",
        "\n",
        "b) Converter SVM linear em perceptron simplifica o custo computacional (reduz)\n",
        "\n",
        "\n",
        "\n",
        "#d)\n",
        "d1 = SVM kernel RBF são 6 vetores de suporte\n",
        "SVM kernel polynomial são 3 vetores de suporte\n",
        "\n",
        "d2 = Os indices do SVM kernel RBF são [ 0 1 2 3 4 5]\n",
        "e os do SVM  kernel polynomial são [ 0 1 5]\n",
        "\n",
        "Os lambdas do SVM kernel RBF são\n",
        "[-0.91722233 , -0.91351914 , -0.91300432 , 0.87185969 , 0.8718861 , 1] \n",
        "\n",
        "Os lambdas do SVM kernel polynomial são\n",
        "[-0.00887134 , -0.03133903 , 0.04021037]\n",
        "\n",
        "d3 = \n",
        "\n",
        "bias do SVM kernel RBF: -0.08676121\n",
        "\n",
        "bias do SVM kernel polynomial : -1.03731897\n",
        "\n",
        "#e)\n",
        "0.90993821 é o menos confiante\n",
        "\n",
        "A classe predita é y=1, visto quem em valores absolutos estão bem proximos de 1"
      ],
      "metadata": {
        "id": "WNohnBGknT9c"
      },
      "id": "WNohnBGknT9c"
    },
    {
      "cell_type": "code",
      "source": [],
      "metadata": {
        "id": "dre-I_-hqDPp"
      },
      "id": "dre-I_-hqDPp",
      "execution_count": null,
      "outputs": []
    }
  ],
  "metadata": {
    "kernelspec": {
      "display_name": "Python 3 (ipykernel)",
      "language": "python",
      "name": "python3"
    },
    "language_info": {
      "codemirror_mode": {
        "name": "ipython",
        "version": 3
      },
      "file_extension": ".py",
      "mimetype": "text/x-python",
      "name": "python",
      "nbconvert_exporter": "python",
      "pygments_lexer": "ipython3",
      "version": "3.8.0"
    },
    "colab": {
      "provenance": []
    }
  },
  "nbformat": 4,
  "nbformat_minor": 5
}